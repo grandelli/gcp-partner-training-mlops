{
 "cells": [
  {
   "cell_type": "markdown",
   "id": "e8ba7f4f",
   "metadata": {},
   "source": [
    "# 01 - Data Analysis and Preparation\n",
    "\n",
    "This notebook covers the following tasks:\n",
    "\n",
    "1. Perform exploratory data analysis and visualization.\n",
    "2. Prepare the data for the ML task in BigQuery.\n",
    "3. Generate and fix a ` TFDV schema` for the source data.\n",
    "4. Create a `Vertex Dataset resource` dataset.\n"
   ]
  },
  {
   "cell_type": "markdown",
   "id": "b481a247",
   "metadata": {},
   "source": [
    "## Dataset\n",
    "\n",
    "The [Chicago Taxi Trips](https://pantheon.corp.google.com/marketplace/details/city-of-chicago-public-data/chicago-taxi-trips) dataset is one of [public datasets hosted with BigQuery](https://cloud.google.com/bigquery/public-data/), which includes taxi trips from 2013 to the present, reported to the City of Chicago in its role as a regulatory agency. The `taxi_trips` table size is 70.72 GB and includes more than 195 million records. The dataset includes information about the trips, like pickup and dropoff datetime and location, passengers count, miles travelled, and trip toll. \n",
    "\n",
    "The ML task is to predict whether a given trip will result in a tip > 20%."
   ]
  },
  {
   "cell_type": "markdown",
   "id": "4fedd0ac",
   "metadata": {},
   "source": [
    "## Setup"
   ]
  },
  {
   "cell_type": "markdown",
   "id": "b25967c9",
   "metadata": {},
   "source": [
    "### Import libraries"
   ]
  },
  {
   "cell_type": "code",
   "execution_count": 1,
   "id": "fa2cf3f1",
   "metadata": {
    "tags": []
   },
   "outputs": [
    {
     "name": "stderr",
     "output_type": "stream",
     "text": [
      "2022-04-01 07:36:31.942441: I tensorflow/stream_executor/platform/default/dso_loader.cc:53] Successfully opened dynamic library libcudart.so.11.0\n"
     ]
    },
    {
     "name": "stdout",
     "output_type": "stream",
     "text": [
      "Pandas: 1.0.5\n",
      "TensorFlow version: 2.5.3\n",
      "TFX version: 1.2.0\n",
      "KFP version: 1.8.9\n"
     ]
    }
   ],
   "source": [
    "import os\n",
    "import pandas as pd\n",
    "import tensorflow as tf\n",
    "import tensorflow_data_validation as tfdv\n",
    "import tfx as tfx\n",
    "from google.cloud import bigquery\n",
    "import matplotlib.pyplot as plt\n",
    "import kfp\n",
    "\n",
    "from google.cloud import aiplatform as vertex_ai\n",
    "\n",
    "print('Pandas: {}'.format(pd.__version__))\n",
    "print('TensorFlow version: {}'.format(tf.__version__))\n",
    "print('TFX version: {}'.format(tfx.__version__))\n",
    "print('KFP version: {}'.format(kfp.__version__))"
   ]
  },
  {
   "cell_type": "markdown",
   "id": "9bd0ee37",
   "metadata": {},
   "source": [
    "### Setup Google Cloud project"
   ]
  },
  {
   "cell_type": "code",
   "execution_count": 3,
   "id": "c7e4712e",
   "metadata": {
    "tags": []
   },
   "outputs": [
    {
     "name": "stdout",
     "output_type": "stream",
     "text": [
      "Project ID: grandelli-demo-295810\n",
      "Region: us-central1\n"
     ]
    }
   ],
   "source": [
    "PROJECT = 'grandelli-demo-295810' # Change to your project id.\n",
    "REGION = 'us-central1' # Change to your region.\n",
    "\n",
    "if PROJECT == \"\" or PROJECT is None or PROJECT == \"[your-project-id]\":\n",
    "    # Get your GCP project id from gcloud\n",
    "    shell_output = !gcloud config list --format 'value(core.project)' 2>/dev/null\n",
    "    PROJECT = shell_output[0]\n",
    "    \n",
    "print(\"Project ID:\", PROJECT)\n",
    "print(\"Region:\", REGION)"
   ]
  },
  {
   "cell_type": "markdown",
   "id": "384a817b",
   "metadata": {},
   "source": [
    "### Set configurations"
   ]
  },
  {
   "cell_type": "code",
   "execution_count": 4,
   "id": "b71d0738",
   "metadata": {
    "tags": []
   },
   "outputs": [],
   "source": [
    "BQ_DATASET_NAME = 'partner_training' # Change to your BQ dataset name.\n",
    "BQ_TABLE_NAME = 'chicago_taxitrips_prep'\n",
    "BQ_LOCATION = 'US'\n",
    "\n",
    "DATASET_DISPLAY_NAME = 'chicago-taxi-tips'\n",
    "\n",
    "RAW_SCHEMA_DIR = 'src/raw_schema'"
   ]
  },
  {
   "cell_type": "markdown",
   "id": "39395512",
   "metadata": {},
   "source": [
    "## 1. Explore the data in BigQuery"
   ]
  },
  {
   "cell_type": "markdown",
   "id": "1f23963d-090b-4e98-ae5d-7e78601ede13",
   "metadata": {},
   "source": [
    "This is a public dataset."
   ]
  },
  {
   "cell_type": "code",
   "execution_count": 5,
   "id": "9e4300d3",
   "metadata": {
    "tags": []
   },
   "outputs": [
    {
     "name": "stderr",
     "output_type": "stream",
     "text": [
      "Query complete after 0.00s: 100%|██████████| 3/3 [00:00<00:00, 1254.53query/s]                        \n",
      "Downloading: 100%|██████████| 7/7 [00:02<00:00,  3.05rows/s]\n"
     ]
    }
   ],
   "source": [
    "%%bigquery data\n",
    "\n",
    "SELECT \n",
    "    CAST(EXTRACT(DAYOFWEEK FROM trip_start_timestamp) AS string) AS trip_dayofweek, \n",
    "    FORMAT_DATE('%A',cast(trip_start_timestamp as date)) AS trip_dayname,\n",
    "    COUNT(*) as trip_count,\n",
    "FROM `bigquery-public-data.chicago_taxi_trips.taxi_trips`\n",
    "WHERE\n",
    "    EXTRACT(YEAR FROM trip_start_timestamp) = 2015 \n",
    "GROUP BY\n",
    "    trip_dayofweek,\n",
    "    trip_dayname\n",
    "ORDER BY\n",
    "    trip_dayofweek\n",
    ";"
   ]
  },
  {
   "cell_type": "code",
   "execution_count": 6,
   "id": "699804c5",
   "metadata": {
    "tags": []
   },
   "outputs": [
    {
     "data": {
      "text/html": [
       "<div>\n",
       "<style scoped>\n",
       "    .dataframe tbody tr th:only-of-type {\n",
       "        vertical-align: middle;\n",
       "    }\n",
       "\n",
       "    .dataframe tbody tr th {\n",
       "        vertical-align: top;\n",
       "    }\n",
       "\n",
       "    .dataframe thead th {\n",
       "        text-align: right;\n",
       "    }\n",
       "</style>\n",
       "<table border=\"1\" class=\"dataframe\">\n",
       "  <thead>\n",
       "    <tr style=\"text-align: right;\">\n",
       "      <th></th>\n",
       "      <th>trip_dayofweek</th>\n",
       "      <th>trip_dayname</th>\n",
       "      <th>trip_count</th>\n",
       "    </tr>\n",
       "  </thead>\n",
       "  <tbody>\n",
       "    <tr>\n",
       "      <th>0</th>\n",
       "      <td>1</td>\n",
       "      <td>Sunday</td>\n",
       "      <td>4141154</td>\n",
       "    </tr>\n",
       "    <tr>\n",
       "      <th>1</th>\n",
       "      <td>2</td>\n",
       "      <td>Monday</td>\n",
       "      <td>4105900</td>\n",
       "    </tr>\n",
       "    <tr>\n",
       "      <th>2</th>\n",
       "      <td>3</td>\n",
       "      <td>Tuesday</td>\n",
       "      <td>4378805</td>\n",
       "    </tr>\n",
       "    <tr>\n",
       "      <th>3</th>\n",
       "      <td>4</td>\n",
       "      <td>Wednesday</td>\n",
       "      <td>4542810</td>\n",
       "    </tr>\n",
       "    <tr>\n",
       "      <th>4</th>\n",
       "      <td>5</td>\n",
       "      <td>Thursday</td>\n",
       "      <td>4918190</td>\n",
       "    </tr>\n",
       "    <tr>\n",
       "      <th>5</th>\n",
       "      <td>6</td>\n",
       "      <td>Friday</td>\n",
       "      <td>5289830</td>\n",
       "    </tr>\n",
       "    <tr>\n",
       "      <th>6</th>\n",
       "      <td>7</td>\n",
       "      <td>Saturday</td>\n",
       "      <td>5009186</td>\n",
       "    </tr>\n",
       "  </tbody>\n",
       "</table>\n",
       "</div>"
      ],
      "text/plain": [
       "  trip_dayofweek trip_dayname  trip_count\n",
       "0              1       Sunday     4141154\n",
       "1              2       Monday     4105900\n",
       "2              3      Tuesday     4378805\n",
       "3              4    Wednesday     4542810\n",
       "4              5     Thursday     4918190\n",
       "5              6       Friday     5289830\n",
       "6              7     Saturday     5009186"
      ]
     },
     "execution_count": 6,
     "metadata": {},
     "output_type": "execute_result"
    }
   ],
   "source": [
    "data"
   ]
  },
  {
   "cell_type": "code",
   "execution_count": 7,
   "id": "a7f2447e",
   "metadata": {
    "tags": []
   },
   "outputs": [
    {
     "data": {
      "text/plain": [
       "<AxesSubplot:xlabel='trip_dayname'>"
      ]
     },
     "execution_count": 7,
     "metadata": {},
     "output_type": "execute_result"
    },
    {
     "data": {
      "image/png": "[encoded data removed]",
      "text/plain": [
       "<Figure size 432x288 with 1 Axes>"
      ]
     },
     "metadata": {
      "needs_background": "light"
     },
     "output_type": "display_data"
    }
   ],
   "source": [
    "data.plot(kind='bar', x='trip_dayname', y='trip_count')"
   ]
  },
  {
   "cell_type": "markdown",
   "id": "a7782c69",
   "metadata": {},
   "source": [
    "## 2. Create data for the ML task\n",
    "\n",
    "We add a `ML_use` column for pre-splitting the data, where 80% of the datsa items are set to `UNASSIGNED` while the other 20% is set to `TEST`.\n",
    "\n",
    "This column is used during training to split the dataset for training and test.\n",
    "\n",
    "In the training phase, the `UNASSIGNED` are split into `train` and `eval`. The `TEST` split is will be used for the final model validation.\n",
    "\n",
    "Pls refer to https://cloud.google.com/vertex-ai/docs/datasets/prepare-tabular#ml-use for tabular data."
   ]
  },
  {
   "cell_type": "markdown",
   "id": "7987d132",
   "metadata": {},
   "source": [
    "### Create destination BigQuery dataset"
   ]
  },
  {
   "cell_type": "code",
   "execution_count": 7,
   "id": "56a7f6d6",
   "metadata": {
    "collapsed": true,
    "jupyter": {
     "outputs_hidden": true
    }
   },
   "outputs": [
    {
     "name": "stdout",
     "output_type": "stream",
     "text": [
      "BigQuery error in mk operation: Dataset 'grandelli-demo-295810:partner_training'\n",
      "already exists.\n"
     ]
    }
   ],
   "source": [
    "!bq --location=US mk -d \\\n",
    "$PROJECT:$BQ_DATASET_NAME"
   ]
  },
  {
   "cell_type": "code",
   "execution_count": 8,
   "id": "832f99ba",
   "metadata": {
    "collapsed": true,
    "jupyter": {
     "outputs_hidden": true
    }
   },
   "outputs": [],
   "source": [
    "sample_size = 1000000\n",
    "year = 2020"
   ]
  },
  {
   "cell_type": "markdown",
   "id": "4f22bfe8-0320-424e-a8cf-8b38c313da87",
   "metadata": {},
   "source": [
    "We create the label **tip_bin** and we assign values to **ML_USE**"
   ]
  },
  {
   "cell_type": "code",
   "execution_count": 9,
   "id": "1b19789f",
   "metadata": {
    "collapsed": true,
    "jupyter": {
     "outputs_hidden": true
    }
   },
   "outputs": [],
   "source": [
    "sql_script = '''\n",
    "CREATE OR REPLACE TABLE `@PROJECT.@DATASET.@TABLE` \n",
    "AS (\n",
    "    WITH\n",
    "      taxitrips AS (\n",
    "      SELECT\n",
    "        trip_start_timestamp,\n",
    "        trip_seconds,\n",
    "        trip_miles,\n",
    "        payment_type,\n",
    "        pickup_longitude,\n",
    "        pickup_latitude,\n",
    "        dropoff_longitude,\n",
    "        dropoff_latitude,\n",
    "        tips,\n",
    "        fare\n",
    "      FROM\n",
    "        `bigquery-public-data.chicago_taxi_trips.taxi_trips`\n",
    "      WHERE 1=1 \n",
    "      AND pickup_longitude IS NOT NULL\n",
    "      AND pickup_latitude IS NOT NULL\n",
    "      AND dropoff_longitude IS NOT NULL\n",
    "      AND dropoff_latitude IS NOT NULL\n",
    "      AND trip_miles > 0\n",
    "      AND trip_seconds > 0\n",
    "      AND fare > 0\n",
    "      AND EXTRACT(YEAR FROM trip_start_timestamp) = @YEAR\n",
    "    )\n",
    "\n",
    "    SELECT\n",
    "      trip_start_timestamp,\n",
    "      EXTRACT(MONTH from trip_start_timestamp) as trip_month,\n",
    "      EXTRACT(DAY from trip_start_timestamp) as trip_day,\n",
    "      EXTRACT(DAYOFWEEK from trip_start_timestamp) as trip_day_of_week,\n",
    "      EXTRACT(HOUR from trip_start_timestamp) as trip_hour,\n",
    "      trip_seconds,\n",
    "      trip_miles,\n",
    "      payment_type,\n",
    "      ST_AsText(\n",
    "          ST_SnapToGrid(ST_GeogPoint(pickup_longitude, pickup_latitude), 0.1)\n",
    "      ) AS pickup_grid,\n",
    "      ST_AsText(\n",
    "          ST_SnapToGrid(ST_GeogPoint(dropoff_longitude, dropoff_latitude), 0.1)\n",
    "      ) AS dropoff_grid,\n",
    "      ST_Distance(\n",
    "          ST_GeogPoint(pickup_longitude, pickup_latitude), \n",
    "          ST_GeogPoint(dropoff_longitude, dropoff_latitude)\n",
    "      ) AS euclidean,\n",
    "      CONCAT(\n",
    "          ST_AsText(ST_SnapToGrid(ST_GeogPoint(pickup_longitude,\n",
    "              pickup_latitude), 0.1)), \n",
    "          ST_AsText(ST_SnapToGrid(ST_GeogPoint(dropoff_longitude,\n",
    "              dropoff_latitude), 0.1))\n",
    "      ) AS loc_cross,\n",
    "      IF((tips/fare >= 0.2), 1, 0) AS tip_bin,\n",
    "      IF(RAND() <= 0.8, 'UNASSIGNED', 'TEST') AS ML_use\n",
    "    FROM\n",
    "      taxitrips\n",
    "    LIMIT @LIMIT\n",
    ")\n",
    "'''"
   ]
  },
  {
   "cell_type": "code",
   "execution_count": 10,
   "id": "6f1d2837",
   "metadata": {
    "collapsed": true,
    "jupyter": {
     "outputs_hidden": true
    }
   },
   "outputs": [],
   "source": [
    "sql_script = sql_script.replace(\n",
    "    '@PROJECT', PROJECT).replace(\n",
    "    '@DATASET', BQ_DATASET_NAME).replace(\n",
    "    '@TABLE', BQ_TABLE_NAME).replace(\n",
    "    '@YEAR', str(year)).replace(\n",
    "    '@LIMIT', str(sample_size))"
   ]
  },
  {
   "cell_type": "code",
   "execution_count": 11,
   "id": "27acb6b5",
   "metadata": {
    "collapsed": true,
    "jupyter": {
     "outputs_hidden": true
    },
    "tags": []
   },
   "outputs": [
    {
     "name": "stdout",
     "output_type": "stream",
     "text": [
      "\n",
      "CREATE OR REPLACE TABLE `grandelli-demo-295810.partner_training.chicago_taxitrips_prep` \n",
      "AS (\n",
      "    WITH\n",
      "      taxitrips AS (\n",
      "      SELECT\n",
      "        trip_start_timestamp,\n",
      "        trip_seconds,\n",
      "        trip_miles,\n",
      "        payment_type,\n",
      "        pickup_longitude,\n",
      "        pickup_latitude,\n",
      "        dropoff_longitude,\n",
      "        dropoff_latitude,\n",
      "        tips,\n",
      "        fare\n",
      "      FROM\n",
      "        `bigquery-public-data.chicago_taxi_trips.taxi_trips`\n",
      "      WHERE 1=1 \n",
      "      AND pickup_longitude IS NOT NULL\n",
      "      AND pickup_latitude IS NOT NULL\n",
      "      AND dropoff_longitude IS NOT NULL\n",
      "      AND dropoff_latitude IS NOT NULL\n",
      "      AND trip_miles > 0\n",
      "      AND trip_seconds > 0\n",
      "      AND fare > 0\n",
      "      AND EXTRACT(YEAR FROM trip_start_timestamp) = 2020\n",
      "    )\n",
      "\n",
      "    SELECT\n",
      "      trip_start_timestamp,\n",
      "      EXTRACT(MONTH from trip_start_timestamp) as trip_month,\n",
      "      EXTRACT(DAY from trip_start_timestamp) as trip_day,\n",
      "      EXTRACT(DAYOFWEEK from trip_start_timestamp) as trip_day_of_week,\n",
      "      EXTRACT(HOUR from trip_start_timestamp) as trip_hour,\n",
      "      trip_seconds,\n",
      "      trip_miles,\n",
      "      payment_type,\n",
      "      ST_AsText(\n",
      "          ST_SnapToGrid(ST_GeogPoint(pickup_longitude, pickup_latitude), 0.1)\n",
      "      ) AS pickup_grid,\n",
      "      ST_AsText(\n",
      "          ST_SnapToGrid(ST_GeogPoint(dropoff_longitude, dropoff_latitude), 0.1)\n",
      "      ) AS dropoff_grid,\n",
      "      ST_Distance(\n",
      "          ST_GeogPoint(pickup_longitude, pickup_latitude), \n",
      "          ST_GeogPoint(dropoff_longitude, dropoff_latitude)\n",
      "      ) AS euclidean,\n",
      "      CONCAT(\n",
      "          ST_AsText(ST_SnapToGrid(ST_GeogPoint(pickup_longitude,\n",
      "              pickup_latitude), 0.1)), \n",
      "          ST_AsText(ST_SnapToGrid(ST_GeogPoint(dropoff_longitude,\n",
      "              dropoff_latitude), 0.1))\n",
      "      ) AS loc_cross,\n",
      "      IF((tips/fare >= 0.2), 1, 0) AS tip_bin,\n",
      "      IF(RAND() <= 0.8, 'UNASSIGNED', 'TEST') AS ML_use\n",
      "    FROM\n",
      "      taxitrips\n",
      "    LIMIT 1000000\n",
      ")\n",
      "\n"
     ]
    }
   ],
   "source": [
    "print(sql_script)"
   ]
  },
  {
   "cell_type": "code",
   "execution_count": 12,
   "id": "88f31e8c",
   "metadata": {
    "collapsed": true,
    "jupyter": {
     "outputs_hidden": true
    }
   },
   "outputs": [],
   "source": [
    "bq_client = bigquery.Client(project=PROJECT, location=BQ_LOCATION)\n",
    "job = bq_client.query(sql_script)\n",
    "_ = job.result()"
   ]
  },
  {
   "cell_type": "markdown",
   "id": "bc18c72d-d003-4432-acfb-332b228688b7",
   "metadata": {},
   "source": []
  },
  {
   "cell_type": "code",
   "execution_count": 13,
   "id": "b32eea6f",
   "metadata": {
    "collapsed": true,
    "jupyter": {
     "outputs_hidden": true
    }
   },
   "outputs": [
    {
     "name": "stderr",
     "output_type": "stream",
     "text": [
      "Query complete after 0.00s: 100%|██████████| 2/2 [00:00<00:00, 806.83query/s]                         \n",
      "Downloading: 100%|██████████| 2/2 [00:02<00:00,  1.08s/rows]\n"
     ]
    },
    {
     "data": {
      "text/html": [
       "<div>\n",
       "<style scoped>\n",
       "    .dataframe tbody tr th:only-of-type {\n",
       "        vertical-align: middle;\n",
       "    }\n",
       "\n",
       "    .dataframe tbody tr th {\n",
       "        vertical-align: top;\n",
       "    }\n",
       "\n",
       "    .dataframe thead th {\n",
       "        text-align: right;\n",
       "    }\n",
       "</style>\n",
       "<table border=\"1\" class=\"dataframe\">\n",
       "  <thead>\n",
       "    <tr style=\"text-align: right;\">\n",
       "      <th></th>\n",
       "      <th>ML_use</th>\n",
       "      <th>f0_</th>\n",
       "    </tr>\n",
       "  </thead>\n",
       "  <tbody>\n",
       "    <tr>\n",
       "      <th>0</th>\n",
       "      <td>UNASSIGNED</td>\n",
       "      <td>800554</td>\n",
       "    </tr>\n",
       "    <tr>\n",
       "      <th>1</th>\n",
       "      <td>TEST</td>\n",
       "      <td>199446</td>\n",
       "    </tr>\n",
       "  </tbody>\n",
       "</table>\n",
       "</div>"
      ],
      "text/plain": [
       "       ML_use     f0_\n",
       "0  UNASSIGNED  800554\n",
       "1        TEST  199446"
      ]
     },
     "execution_count": 13,
     "metadata": {},
     "output_type": "execute_result"
    }
   ],
   "source": [
    "%%bigquery --project {PROJECT}\n",
    "\n",
    "SELECT ML_use, COUNT(*)\n",
    "FROM partner_training.chicago_taxitrips_prep # Change to your BQ dataset and table names.\n",
    "GROUP BY ML_use"
   ]
  },
  {
   "cell_type": "markdown",
   "id": "7fcc75fc",
   "metadata": {},
   "source": [
    "### Load a sample data to a Pandas DataFrame"
   ]
  },
  {
   "cell_type": "code",
   "execution_count": 8,
   "id": "f252a846",
   "metadata": {
    "tags": []
   },
   "outputs": [
    {
     "name": "stderr",
     "output_type": "stream",
     "text": [
      "Query complete after 0.00s: 100%|██████████| 2/2 [00:00<00:00, 702.33query/s]                         \n",
      "Downloading: 100%|██████████| 1000000/1000000 [00:03<00:00, 322952.01rows/s]\n"
     ]
    }
   ],
   "source": [
    "%%bigquery sample_data --project {PROJECT}\n",
    "\n",
    "SELECT * EXCEPT (trip_start_timestamp, ML_use)\n",
    "FROM partner_training.chicago_taxitrips_prep # Change to your BQ dataset and table names."
   ]
  },
  {
   "cell_type": "code",
   "execution_count": 9,
   "id": "798809d2",
   "metadata": {
    "tags": []
   },
   "outputs": [
    {
     "data": {
      "text/html": [
       "<div>\n",
       "<style scoped>\n",
       "    .dataframe tbody tr th:only-of-type {\n",
       "        vertical-align: middle;\n",
       "    }\n",
       "\n",
       "    .dataframe tbody tr th {\n",
       "        vertical-align: top;\n",
       "    }\n",
       "\n",
       "    .dataframe thead th {\n",
       "        text-align: right;\n",
       "    }\n",
       "</style>\n",
       "<table border=\"1\" class=\"dataframe\">\n",
       "  <thead>\n",
       "    <tr style=\"text-align: right;\">\n",
       "      <th></th>\n",
       "      <th>0</th>\n",
       "      <th>1</th>\n",
       "      <th>2</th>\n",
       "      <th>3</th>\n",
       "      <th>4</th>\n",
       "    </tr>\n",
       "  </thead>\n",
       "  <tbody>\n",
       "    <tr>\n",
       "      <th>trip_month</th>\n",
       "      <td>2</td>\n",
       "      <td>2</td>\n",
       "      <td>2</td>\n",
       "      <td>2</td>\n",
       "      <td>2</td>\n",
       "    </tr>\n",
       "    <tr>\n",
       "      <th>trip_day</th>\n",
       "      <td>10</td>\n",
       "      <td>10</td>\n",
       "      <td>7</td>\n",
       "      <td>14</td>\n",
       "      <td>26</td>\n",
       "    </tr>\n",
       "    <tr>\n",
       "      <th>trip_day_of_week</th>\n",
       "      <td>2</td>\n",
       "      <td>2</td>\n",
       "      <td>6</td>\n",
       "      <td>6</td>\n",
       "      <td>4</td>\n",
       "    </tr>\n",
       "    <tr>\n",
       "      <th>trip_hour</th>\n",
       "      <td>17</td>\n",
       "      <td>17</td>\n",
       "      <td>11</td>\n",
       "      <td>10</td>\n",
       "      <td>8</td>\n",
       "    </tr>\n",
       "    <tr>\n",
       "      <th>trip_seconds</th>\n",
       "      <td>621</td>\n",
       "      <td>1093</td>\n",
       "      <td>229</td>\n",
       "      <td>120</td>\n",
       "      <td>318</td>\n",
       "    </tr>\n",
       "    <tr>\n",
       "      <th>trip_miles</th>\n",
       "      <td>1.1</td>\n",
       "      <td>0.75</td>\n",
       "      <td>0.49</td>\n",
       "      <td>0.4</td>\n",
       "      <td>0.54</td>\n",
       "    </tr>\n",
       "    <tr>\n",
       "      <th>payment_type</th>\n",
       "      <td>Credit Card</td>\n",
       "      <td>Cash</td>\n",
       "      <td>Cash</td>\n",
       "      <td>Credit Card</td>\n",
       "      <td>Credit Card</td>\n",
       "    </tr>\n",
       "    <tr>\n",
       "      <th>pickup_grid</th>\n",
       "      <td>POINT(-87.6 42)</td>\n",
       "      <td>POINT(-87.6 42)</td>\n",
       "      <td>POINT(-87.6 42)</td>\n",
       "      <td>POINT(-87.6 42)</td>\n",
       "      <td>POINT(-87.6 42)</td>\n",
       "    </tr>\n",
       "    <tr>\n",
       "      <th>dropoff_grid</th>\n",
       "      <td>POINT(-87.6 42)</td>\n",
       "      <td>POINT(-87.6 42)</td>\n",
       "      <td>POINT(-87.6 42)</td>\n",
       "      <td>POINT(-87.6 42)</td>\n",
       "      <td>POINT(-87.6 42)</td>\n",
       "    </tr>\n",
       "    <tr>\n",
       "      <th>euclidean</th>\n",
       "      <td>0</td>\n",
       "      <td>0</td>\n",
       "      <td>0</td>\n",
       "      <td>0</td>\n",
       "      <td>0</td>\n",
       "    </tr>\n",
       "    <tr>\n",
       "      <th>loc_cross</th>\n",
       "      <td>POINT(-87.6 42)POINT(-87.6 42)</td>\n",
       "      <td>POINT(-87.6 42)POINT(-87.6 42)</td>\n",
       "      <td>POINT(-87.6 42)POINT(-87.6 42)</td>\n",
       "      <td>POINT(-87.6 42)POINT(-87.6 42)</td>\n",
       "      <td>POINT(-87.6 42)POINT(-87.6 42)</td>\n",
       "    </tr>\n",
       "    <tr>\n",
       "      <th>tip_bin</th>\n",
       "      <td>1</td>\n",
       "      <td>0</td>\n",
       "      <td>0</td>\n",
       "      <td>0</td>\n",
       "      <td>1</td>\n",
       "    </tr>\n",
       "  </tbody>\n",
       "</table>\n",
       "</div>"
      ],
      "text/plain": [
       "                                               0  \\\n",
       "trip_month                                     2   \n",
       "trip_day                                      10   \n",
       "trip_day_of_week                               2   \n",
       "trip_hour                                     17   \n",
       "trip_seconds                                 621   \n",
       "trip_miles                                   1.1   \n",
       "payment_type                         Credit Card   \n",
       "pickup_grid                      POINT(-87.6 42)   \n",
       "dropoff_grid                     POINT(-87.6 42)   \n",
       "euclidean                                      0   \n",
       "loc_cross         POINT(-87.6 42)POINT(-87.6 42)   \n",
       "tip_bin                                        1   \n",
       "\n",
       "                                               1  \\\n",
       "trip_month                                     2   \n",
       "trip_day                                      10   \n",
       "trip_day_of_week                               2   \n",
       "trip_hour                                     17   \n",
       "trip_seconds                                1093   \n",
       "trip_miles                                  0.75   \n",
       "payment_type                                Cash   \n",
       "pickup_grid                      POINT(-87.6 42)   \n",
       "dropoff_grid                     POINT(-87.6 42)   \n",
       "euclidean                                      0   \n",
       "loc_cross         POINT(-87.6 42)POINT(-87.6 42)   \n",
       "tip_bin                                        0   \n",
       "\n",
       "                                               2  \\\n",
       "trip_month                                     2   \n",
       "trip_day                                       7   \n",
       "trip_day_of_week                               6   \n",
       "trip_hour                                     11   \n",
       "trip_seconds                                 229   \n",
       "trip_miles                                  0.49   \n",
       "payment_type                                Cash   \n",
       "pickup_grid                      POINT(-87.6 42)   \n",
       "dropoff_grid                     POINT(-87.6 42)   \n",
       "euclidean                                      0   \n",
       "loc_cross         POINT(-87.6 42)POINT(-87.6 42)   \n",
       "tip_bin                                        0   \n",
       "\n",
       "                                               3  \\\n",
       "trip_month                                     2   \n",
       "trip_day                                      14   \n",
       "trip_day_of_week                               6   \n",
       "trip_hour                                     10   \n",
       "trip_seconds                                 120   \n",
       "trip_miles                                   0.4   \n",
       "payment_type                         Credit Card   \n",
       "pickup_grid                      POINT(-87.6 42)   \n",
       "dropoff_grid                     POINT(-87.6 42)   \n",
       "euclidean                                      0   \n",
       "loc_cross         POINT(-87.6 42)POINT(-87.6 42)   \n",
       "tip_bin                                        0   \n",
       "\n",
       "                                               4  \n",
       "trip_month                                     2  \n",
       "trip_day                                      26  \n",
       "trip_day_of_week                               4  \n",
       "trip_hour                                      8  \n",
       "trip_seconds                                 318  \n",
       "trip_miles                                  0.54  \n",
       "payment_type                         Credit Card  \n",
       "pickup_grid                      POINT(-87.6 42)  \n",
       "dropoff_grid                     POINT(-87.6 42)  \n",
       "euclidean                                      0  \n",
       "loc_cross         POINT(-87.6 42)POINT(-87.6 42)  \n",
       "tip_bin                                        1  "
      ]
     },
     "execution_count": 9,
     "metadata": {},
     "output_type": "execute_result"
    }
   ],
   "source": [
    "sample_data.head().T"
   ]
  },
  {
   "cell_type": "code",
   "execution_count": 10,
   "id": "23595838",
   "metadata": {
    "tags": []
   },
   "outputs": [
    {
     "data": {
      "text/plain": [
       "0    637915\n",
       "1    362085\n",
       "Name: tip_bin, dtype: int64"
      ]
     },
     "execution_count": 10,
     "metadata": {},
     "output_type": "execute_result"
    }
   ],
   "source": [
    "sample_data.tip_bin.value_counts()"
   ]
  },
  {
   "cell_type": "code",
   "execution_count": 11,
   "id": "3d06bb64",
   "metadata": {
    "tags": []
   },
   "outputs": [
    {
     "data": {
      "text/plain": [
       "<AxesSubplot:>"
      ]
     },
     "execution_count": 11,
     "metadata": {},
     "output_type": "execute_result"
    },
    {
     "data": {
      "image/png": "[encoded data removed]",
      "text/plain": [
       "<Figure size 432x288 with 1 Axes>"
      ]
     },
     "metadata": {
      "needs_background": "light"
     },
     "output_type": "display_data"
    }
   ],
   "source": [
    "sample_data.euclidean.hist()"
   ]
  },
  {
   "cell_type": "markdown",
   "id": "10aae180",
   "metadata": {},
   "source": [
    "## 3. Generate raw data schema\n",
    "\n",
    "The [TensorFlow Data Validation (TFDV)](https://www.tensorflow.org/tfx/data_validation/get_started) data schema will be used in:\n",
    "1. Identify the raw data types and shapes in the data transformation.\n",
    "2. Create the serving input signature for the custom model (schema).\n",
    "3. Validate the new raw training data in the TFX pipeline."
   ]
  },
  {
   "cell_type": "code",
   "execution_count": 12,
   "id": "4087d5fa",
   "metadata": {
    "tags": []
   },
   "outputs": [],
   "source": [
    "stats = tfdv.generate_statistics_from_dataframe(\n",
    "    dataframe=sample_data,\n",
    "    stats_options=tfdv.StatsOptions(\n",
    "        label_feature='tip_bin',\n",
    "        weight_feature=None,\n",
    "        sample_rate=1.,\n",
    "        num_top_values=50\n",
    "    )\n",
    ")"
   ]
  },
  {
   "cell_type": "code",
   "execution_count": 13,
   "id": "091fbd77",
   "metadata": {
    "tags": []
   },
   "outputs": [
    {
     "data": {
      "text/html": [
       "<iframe id='facets-iframe' width=\"100%\" height=\"500px\"></iframe>\n",
       "        <script>\n",
       "        facets_iframe = document.getElementById('facets-iframe');\n",
       "        facets_html = '<script src=\"https://cdnjs.cloudflare.com/ajax/libs/webcomponentsjs/1.3.3/webcomponents-lite.js\"><\\/script><link rel=\"import\" href=\"https://raw.githubusercontent.com/PAIR-code/facets/master/facets-dist/facets-jupyter.html\"><facets-overview proto-input=\"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\"></facets-overview>';\n",
       "        facets_iframe.srcdoc = facets_html;\n",
       "         facets_iframe.id = \"\";\n",
       "         setTimeout(() => {\n",
       "           facets_iframe.setAttribute('height', facets_iframe.contentWindow.document.body.offsetHeight + 'px')\n",
       "         }, 1500)\n",
       "         </script>"
      ],
      "text/plain": [
       "<IPython.core.display.HTML object>"
      ]
     },
     "metadata": {},
     "output_type": "display_data"
    }
   ],
   "source": [
    "tfdv.visualize_statistics(stats)"
   ]
  },
  {
   "cell_type": "code",
   "execution_count": 20,
   "id": "d251e09b",
   "metadata": {
    "tags": []
   },
   "outputs": [
    {
     "data": {
      "text/html": [
       "<div>\n",
       "<style scoped>\n",
       "    .dataframe tbody tr th:only-of-type {\n",
       "        vertical-align: middle;\n",
       "    }\n",
       "\n",
       "    .dataframe tbody tr th {\n",
       "        vertical-align: top;\n",
       "    }\n",
       "\n",
       "    .dataframe thead th {\n",
       "        text-align: right;\n",
       "    }\n",
       "</style>\n",
       "<table border=\"1\" class=\"dataframe\">\n",
       "  <thead>\n",
       "    <tr style=\"text-align: right;\">\n",
       "      <th></th>\n",
       "      <th>Type</th>\n",
       "      <th>Presence</th>\n",
       "      <th>Valency</th>\n",
       "      <th>Domain</th>\n",
       "    </tr>\n",
       "    <tr>\n",
       "      <th>Feature name</th>\n",
       "      <th></th>\n",
       "      <th></th>\n",
       "      <th></th>\n",
       "      <th></th>\n",
       "    </tr>\n",
       "  </thead>\n",
       "  <tbody>\n",
       "    <tr>\n",
       "      <th>'trip_month'</th>\n",
       "      <td>INT</td>\n",
       "      <td>required</td>\n",
       "      <td></td>\n",
       "      <td>-</td>\n",
       "    </tr>\n",
       "    <tr>\n",
       "      <th>'trip_day'</th>\n",
       "      <td>INT</td>\n",
       "      <td>required</td>\n",
       "      <td></td>\n",
       "      <td>-</td>\n",
       "    </tr>\n",
       "    <tr>\n",
       "      <th>'trip_day_of_week'</th>\n",
       "      <td>INT</td>\n",
       "      <td>required</td>\n",
       "      <td></td>\n",
       "      <td>-</td>\n",
       "    </tr>\n",
       "    <tr>\n",
       "      <th>'trip_hour'</th>\n",
       "      <td>INT</td>\n",
       "      <td>required</td>\n",
       "      <td></td>\n",
       "      <td>-</td>\n",
       "    </tr>\n",
       "    <tr>\n",
       "      <th>'trip_seconds'</th>\n",
       "      <td>INT</td>\n",
       "      <td>required</td>\n",
       "      <td></td>\n",
       "      <td>-</td>\n",
       "    </tr>\n",
       "    <tr>\n",
       "      <th>'trip_miles'</th>\n",
       "      <td>FLOAT</td>\n",
       "      <td>required</td>\n",
       "      <td></td>\n",
       "      <td>-</td>\n",
       "    </tr>\n",
       "    <tr>\n",
       "      <th>'payment_type'</th>\n",
       "      <td>STRING</td>\n",
       "      <td>required</td>\n",
       "      <td></td>\n",
       "      <td>'payment_type'</td>\n",
       "    </tr>\n",
       "    <tr>\n",
       "      <th>'pickup_grid'</th>\n",
       "      <td>STRING</td>\n",
       "      <td>required</td>\n",
       "      <td></td>\n",
       "      <td>'pickup_grid'</td>\n",
       "    </tr>\n",
       "    <tr>\n",
       "      <th>'dropoff_grid'</th>\n",
       "      <td>STRING</td>\n",
       "      <td>required</td>\n",
       "      <td></td>\n",
       "      <td>'dropoff_grid'</td>\n",
       "    </tr>\n",
       "    <tr>\n",
       "      <th>'euclidean'</th>\n",
       "      <td>FLOAT</td>\n",
       "      <td>required</td>\n",
       "      <td></td>\n",
       "      <td>-</td>\n",
       "    </tr>\n",
       "    <tr>\n",
       "      <th>'loc_cross'</th>\n",
       "      <td>BYTES</td>\n",
       "      <td>required</td>\n",
       "      <td></td>\n",
       "      <td>-</td>\n",
       "    </tr>\n",
       "    <tr>\n",
       "      <th>'tip_bin'</th>\n",
       "      <td>INT</td>\n",
       "      <td>required</td>\n",
       "      <td></td>\n",
       "      <td>-</td>\n",
       "    </tr>\n",
       "  </tbody>\n",
       "</table>\n",
       "</div>"
      ],
      "text/plain": [
       "                      Type  Presence Valency          Domain\n",
       "Feature name                                                \n",
       "'trip_month'           INT  required                       -\n",
       "'trip_day'             INT  required                       -\n",
       "'trip_day_of_week'     INT  required                       -\n",
       "'trip_hour'            INT  required                       -\n",
       "'trip_seconds'         INT  required                       -\n",
       "'trip_miles'         FLOAT  required                       -\n",
       "'payment_type'      STRING  required          'payment_type'\n",
       "'pickup_grid'       STRING  required           'pickup_grid'\n",
       "'dropoff_grid'      STRING  required          'dropoff_grid'\n",
       "'euclidean'          FLOAT  required                       -\n",
       "'loc_cross'          BYTES  required                       -\n",
       "'tip_bin'              INT  required                       -"
      ]
     },
     "metadata": {},
     "output_type": "display_data"
    },
    {
     "name": "stderr",
     "output_type": "stream",
     "text": [
      "/home/jupyter/.local/lib/python3.7/site-packages/tensorflow_data_validation/utils/display_util.py:180: FutureWarning: Passing a negative integer is deprecated in version 1.0 and will not be supported in future version. Instead, use None to not limit the column width.\n",
      "  pd.set_option('max_colwidth', -1)\n"
     ]
    },
    {
     "data": {
      "text/html": [
       "<div>\n",
       "<style scoped>\n",
       "    .dataframe tbody tr th:only-of-type {\n",
       "        vertical-align: middle;\n",
       "    }\n",
       "\n",
       "    .dataframe tbody tr th {\n",
       "        vertical-align: top;\n",
       "    }\n",
       "\n",
       "    .dataframe thead th {\n",
       "        text-align: right;\n",
       "    }\n",
       "</style>\n",
       "<table border=\"1\" class=\"dataframe\">\n",
       "  <thead>\n",
       "    <tr style=\"text-align: right;\">\n",
       "      <th></th>\n",
       "      <th>Values</th>\n",
       "    </tr>\n",
       "    <tr>\n",
       "      <th>Domain</th>\n",
       "      <th></th>\n",
       "    </tr>\n",
       "  </thead>\n",
       "  <tbody>\n",
       "    <tr>\n",
       "      <th>'payment_type'</th>\n",
       "      <td>'Cash', 'Credit Card', 'Dispute', 'Mobile', 'No Charge', 'Prcard', 'Prepaid', 'Unknown'</td>\n",
       "    </tr>\n",
       "    <tr>\n",
       "      <th>'pickup_grid'</th>\n",
       "      <td>'POINT(-87.5 41.7)', 'POINT(-87.6 41.7)', 'POINT(-87.6 41.8)', 'POINT(-87.6 41.9)', 'POINT(-87.6 42)', 'POINT(-87.7 41.7)', 'POINT(-87.7 41.8)', 'POINT(-87.7 41.9)', 'POINT(-87.7 42)', 'POINT(-87.8 41.8)', 'POINT(-87.8 41.9)', 'POINT(-87.8 42)', 'POINT(-87.9 42)'</td>\n",
       "    </tr>\n",
       "    <tr>\n",
       "      <th>'dropoff_grid'</th>\n",
       "      <td>'POINT(-87.5 41.7)', 'POINT(-87.6 41.7)', 'POINT(-87.6 41.8)', 'POINT(-87.6 41.9)', 'POINT(-87.6 42)', 'POINT(-87.7 41.7)', 'POINT(-87.7 41.8)', 'POINT(-87.7 41.9)', 'POINT(-87.7 42)', 'POINT(-87.8 41.8)', 'POINT(-87.8 41.9)', 'POINT(-87.8 42)', 'POINT(-87.9 42)'</td>\n",
       "    </tr>\n",
       "  </tbody>\n",
       "</table>\n",
       "</div>"
      ],
      "text/plain": [
       "                                                                                                                                                                                                                                                                                 Values\n",
       "Domain                                                                                                                                                                                                                                                                                 \n",
       "'payment_type'  'Cash', 'Credit Card', 'Dispute', 'Mobile', 'No Charge', 'Prcard', 'Prepaid', 'Unknown'                                                                                                                                                                                \n",
       "'pickup_grid'   'POINT(-87.5 41.7)', 'POINT(-87.6 41.7)', 'POINT(-87.6 41.8)', 'POINT(-87.6 41.9)', 'POINT(-87.6 42)', 'POINT(-87.7 41.7)', 'POINT(-87.7 41.8)', 'POINT(-87.7 41.9)', 'POINT(-87.7 42)', 'POINT(-87.8 41.8)', 'POINT(-87.8 41.9)', 'POINT(-87.8 42)', 'POINT(-87.9 42)'\n",
       "'dropoff_grid'  'POINT(-87.5 41.7)', 'POINT(-87.6 41.7)', 'POINT(-87.6 41.8)', 'POINT(-87.6 41.9)', 'POINT(-87.6 42)', 'POINT(-87.7 41.7)', 'POINT(-87.7 41.8)', 'POINT(-87.7 41.9)', 'POINT(-87.7 42)', 'POINT(-87.8 41.8)', 'POINT(-87.8 41.9)', 'POINT(-87.8 42)', 'POINT(-87.9 42)'"
      ]
     },
     "metadata": {},
     "output_type": "display_data"
    }
   ],
   "source": [
    "schema = tfdv.infer_schema(statistics=stats)\n",
    "tfdv.display_schema(schema=schema)"
   ]
  },
  {
   "cell_type": "code",
   "execution_count": 21,
   "id": "502c49f1",
   "metadata": {
    "tags": []
   },
   "outputs": [],
   "source": [
    "raw_schema_location = os.path.join(RAW_SCHEMA_DIR, 'schema.pbtxt')\n",
    "tfdv.write_schema_text(schema, raw_schema_location)"
   ]
  },
  {
   "cell_type": "markdown",
   "id": "59df0723",
   "metadata": {},
   "source": [
    "## 4. Create Vertex Dataset resource"
   ]
  },
  {
   "cell_type": "code",
   "execution_count": 22,
   "id": "90d9b605",
   "metadata": {
    "collapsed": true,
    "jupyter": {
     "outputs_hidden": true
    }
   },
   "outputs": [],
   "source": [
    "vertex_ai.init(\n",
    "    project=PROJECT,\n",
    "    location=REGION\n",
    ")"
   ]
  },
  {
   "cell_type": "markdown",
   "id": "464ab920",
   "metadata": {},
   "source": [
    "### Create the dataset resource"
   ]
  },
  {
   "cell_type": "code",
   "execution_count": 23,
   "id": "a0a1707a",
   "metadata": {
    "collapsed": true,
    "jupyter": {
     "outputs_hidden": true
    }
   },
   "outputs": [
    {
     "name": "stdout",
     "output_type": "stream",
     "text": [
      "INFO:google.cloud.aiplatform.datasets.dataset:Creating TabularDataset\n",
      "INFO:google.cloud.aiplatform.datasets.dataset:Create TabularDataset backing LRO: projects/155283586619/locations/us-central1/datasets/2536173103046721536/operations/5202311297995112448\n",
      "INFO:google.cloud.aiplatform.datasets.dataset:TabularDataset created. Resource name: projects/155283586619/locations/us-central1/datasets/2536173103046721536\n",
      "INFO:google.cloud.aiplatform.datasets.dataset:To use this TabularDataset in another session:\n",
      "INFO:google.cloud.aiplatform.datasets.dataset:ds = aiplatform.TabularDataset('projects/155283586619/locations/us-central1/datasets/2536173103046721536')\n"
     ]
    },
    {
     "data": {
      "text/plain": [
       "name: \"projects/155283586619/locations/us-central1/datasets/2536173103046721536\"\n",
       "display_name: \"chicago-taxi-tips\"\n",
       "metadata_schema_uri: \"gs://google-cloud-aiplatform/schema/dataset/metadata/tabular_1.0.0.yaml\"\n",
       "create_time {\n",
       "  seconds: 1648643289\n",
       "  nanos: 381627000\n",
       "}\n",
       "update_time {\n",
       "  seconds: 1648643289\n",
       "  nanos: 927030000\n",
       "}\n",
       "etag: \"AMEw9yMlNFkzHGPennUwz11qWmxLKjv1xYRA4YUsoQhQ2zOqaWg5EjvJkcVb3FzUfYiy\"\n",
       "labels {\n",
       "  key: \"aiplatform.googleapis.com/dataset_metadata_schema\"\n",
       "  value: \"TABLE\"\n",
       "}\n",
       "metadata {\n",
       "  struct_value {\n",
       "    fields {\n",
       "      key: \"inputConfig\"\n",
       "      value {\n",
       "        struct_value {\n",
       "          fields {\n",
       "            key: \"bigquerySource\"\n",
       "            value {\n",
       "              struct_value {\n",
       "                fields {\n",
       "                  key: \"uri\"\n",
       "                  value {\n",
       "                    string_value: \"bq://grandelli-demo-295810.partner_training.chicago_taxitrips_prep\"\n",
       "                  }\n",
       "                }\n",
       "              }\n",
       "            }\n",
       "          }\n",
       "        }\n",
       "      }\n",
       "    }\n",
       "  }\n",
       "}"
      ]
     },
     "execution_count": 23,
     "metadata": {},
     "output_type": "execute_result"
    }
   ],
   "source": [
    "bq_uri = f\"bq://{PROJECT}.{BQ_DATASET_NAME}.{BQ_TABLE_NAME}\"\n",
    "\n",
    "dataset = vertex_ai.TabularDataset.create(\n",
    "    display_name=DATASET_DISPLAY_NAME, bq_source=bq_uri)\n",
    "\n",
    "dataset.gca_resource"
   ]
  },
  {
   "cell_type": "markdown",
   "id": "c761fadb",
   "metadata": {},
   "source": [
    "### Get the dataset resource\n",
    "\n",
    "The dataset resource is retrieved by display name. Because multiple datasets can have the same display name, we retrieve the most recent updated one.\n",
    "\n",
    "Vertex ML Metadata builds on the concepts used in the open source **ML Metadata (MLMD)** library that was developed by Google's TensorFlow Extended team."
   ]
  },
  {
   "cell_type": "code",
   "execution_count": 24,
   "id": "d78b7f4d",
   "metadata": {
    "collapsed": true,
    "jupyter": {
     "outputs_hidden": true
    }
   },
   "outputs": [
    {
     "name": "stdout",
     "output_type": "stream",
     "text": [
      "Dataset resource name: projects/155283586619/locations/us-central1/datasets/2536173103046721536\n",
      "Dataset BigQuery source: bq://grandelli-demo-295810.partner_training.chicago_taxitrips_prep\n"
     ]
    }
   ],
   "source": [
    "dataset = vertex_ai.TabularDataset.list(\n",
    "    filter=f\"display_name={DATASET_DISPLAY_NAME}\", \n",
    "    order_by=\"update_time\")[-1]\n",
    "\n",
    "print(\"Dataset resource name:\", dataset.resource_name)\n",
    "print(\"Dataset BigQuery source:\", dataset.gca_resource.metadata['inputConfig']['bigquerySource']['uri'])"
   ]
  },
  {
   "cell_type": "code",
   "execution_count": null,
   "id": "b8d49d74-9870-4a7b-b4a3-a9da2dd1514e",
   "metadata": {
    "collapsed": true,
    "jupyter": {
     "outputs_hidden": true
    }
   },
   "outputs": [],
   "source": []
  }
 ],
 "metadata": {
  "environment": {
   "kernel": "python3",
   "name": "managed-notebooks.m87",
   "type": "gcloud",
   "uri": "gcr.io/deeplearning-platform-release/base-cu110:latest"
  },
  "kernelspec": {
   "display_name": "Python (Local)",
   "language": "python",
   "name": "local-base"
  },
  "language_info": {
   "codemirror_mode": {
    "name": "ipython",
    "version": 3
   },
   "file_extension": ".py",
   "mimetype": "text/x-python",
   "name": "python",
   "nbconvert_exporter": "python",
   "pygments_lexer": "ipython3",
   "version": "3.7.12"
  }
 },
 "nbformat": 4,
 "nbformat_minor": 5
}
